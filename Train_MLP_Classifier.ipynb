{
  "nbformat": 4,
  "nbformat_minor": 0,
  "metadata": {
    "colab": {
      "provenance": []
    },
    "kernelspec": {
      "name": "python3",
      "display_name": "Python 3"
    },
    "language_info": {
      "name": "python"
    }
  },
  "cells": [
    {
      "cell_type": "markdown",
      "source": [
        "# \t1.\t🔧 !pip install torch joblib"
      ],
      "metadata": {
        "id": "8wiEB7kNUtVK"
      }
    },
    {
      "cell_type": "code",
      "source": [
        "!pip install torch joblib"
      ],
      "metadata": {
        "colab": {
          "base_uri": "https://localhost:8080/"
        },
        "collapsed": true,
        "id": "RjHU6PiuH9_X",
        "outputId": "fa9096d0-22e8-45db-ab11-5e91e9da89e1"
      },
      "execution_count": null,
      "outputs": [
        {
          "output_type": "stream",
          "name": "stdout",
          "text": [
            "Requirement already satisfied: torch in /usr/local/lib/python3.11/dist-packages (2.6.0+cu124)\n",
            "Requirement already satisfied: joblib in /usr/local/lib/python3.11/dist-packages (1.5.1)\n",
            "Requirement already satisfied: filelock in /usr/local/lib/python3.11/dist-packages (from torch) (3.18.0)\n",
            "Requirement already satisfied: typing-extensions>=4.10.0 in /usr/local/lib/python3.11/dist-packages (from torch) (4.14.1)\n",
            "Requirement already satisfied: networkx in /usr/local/lib/python3.11/dist-packages (from torch) (3.5)\n",
            "Requirement already satisfied: jinja2 in /usr/local/lib/python3.11/dist-packages (from torch) (3.1.6)\n",
            "Requirement already satisfied: fsspec in /usr/local/lib/python3.11/dist-packages (from torch) (2025.3.0)\n",
            "Collecting nvidia-cuda-nvrtc-cu12==12.4.127 (from torch)\n",
            "  Downloading nvidia_cuda_nvrtc_cu12-12.4.127-py3-none-manylinux2014_x86_64.whl.metadata (1.5 kB)\n",
            "Collecting nvidia-cuda-runtime-cu12==12.4.127 (from torch)\n",
            "  Downloading nvidia_cuda_runtime_cu12-12.4.127-py3-none-manylinux2014_x86_64.whl.metadata (1.5 kB)\n",
            "Collecting nvidia-cuda-cupti-cu12==12.4.127 (from torch)\n",
            "  Downloading nvidia_cuda_cupti_cu12-12.4.127-py3-none-manylinux2014_x86_64.whl.metadata (1.6 kB)\n",
            "Collecting nvidia-cudnn-cu12==9.1.0.70 (from torch)\n",
            "  Downloading nvidia_cudnn_cu12-9.1.0.70-py3-none-manylinux2014_x86_64.whl.metadata (1.6 kB)\n",
            "Collecting nvidia-cublas-cu12==12.4.5.8 (from torch)\n",
            "  Downloading nvidia_cublas_cu12-12.4.5.8-py3-none-manylinux2014_x86_64.whl.metadata (1.5 kB)\n",
            "Collecting nvidia-cufft-cu12==11.2.1.3 (from torch)\n",
            "  Downloading nvidia_cufft_cu12-11.2.1.3-py3-none-manylinux2014_x86_64.whl.metadata (1.5 kB)\n",
            "Collecting nvidia-curand-cu12==10.3.5.147 (from torch)\n",
            "  Downloading nvidia_curand_cu12-10.3.5.147-py3-none-manylinux2014_x86_64.whl.metadata (1.5 kB)\n",
            "Collecting nvidia-cusolver-cu12==11.6.1.9 (from torch)\n",
            "  Downloading nvidia_cusolver_cu12-11.6.1.9-py3-none-manylinux2014_x86_64.whl.metadata (1.6 kB)\n",
            "Collecting nvidia-cusparse-cu12==12.3.1.170 (from torch)\n",
            "  Downloading nvidia_cusparse_cu12-12.3.1.170-py3-none-manylinux2014_x86_64.whl.metadata (1.6 kB)\n",
            "Requirement already satisfied: nvidia-cusparselt-cu12==0.6.2 in /usr/local/lib/python3.11/dist-packages (from torch) (0.6.2)\n",
            "Collecting nvidia-nccl-cu12==2.21.5 (from torch)\n",
            "  Downloading nvidia_nccl_cu12-2.21.5-py3-none-manylinux2014_x86_64.whl.metadata (1.8 kB)\n",
            "Requirement already satisfied: nvidia-nvtx-cu12==12.4.127 in /usr/local/lib/python3.11/dist-packages (from torch) (12.4.127)\n",
            "Collecting nvidia-nvjitlink-cu12==12.4.127 (from torch)\n",
            "  Downloading nvidia_nvjitlink_cu12-12.4.127-py3-none-manylinux2014_x86_64.whl.metadata (1.5 kB)\n",
            "Requirement already satisfied: triton==3.2.0 in /usr/local/lib/python3.11/dist-packages (from torch) (3.2.0)\n",
            "Requirement already satisfied: sympy==1.13.1 in /usr/local/lib/python3.11/dist-packages (from torch) (1.13.1)\n",
            "Requirement already satisfied: mpmath<1.4,>=1.1.0 in /usr/local/lib/python3.11/dist-packages (from sympy==1.13.1->torch) (1.3.0)\n",
            "Requirement already satisfied: MarkupSafe>=2.0 in /usr/local/lib/python3.11/dist-packages (from jinja2->torch) (3.0.2)\n",
            "Downloading nvidia_cublas_cu12-12.4.5.8-py3-none-manylinux2014_x86_64.whl (363.4 MB)\n",
            "\u001b[2K   \u001b[90m━━━━━━━━━━━━━━━━━━━━━━━━━━━━━━━━━━━━━━━━\u001b[0m \u001b[32m363.4/363.4 MB\u001b[0m \u001b[31m4.3 MB/s\u001b[0m eta \u001b[36m0:00:00\u001b[0m\n",
            "\u001b[?25hDownloading nvidia_cuda_cupti_cu12-12.4.127-py3-none-manylinux2014_x86_64.whl (13.8 MB)\n",
            "\u001b[2K   \u001b[90m━━━━━━━━━━━━━━━━━━━━━━━━━━━━━━━━━━━━━━━━\u001b[0m \u001b[32m13.8/13.8 MB\u001b[0m \u001b[31m55.0 MB/s\u001b[0m eta \u001b[36m0:00:00\u001b[0m\n",
            "\u001b[?25hDownloading nvidia_cuda_nvrtc_cu12-12.4.127-py3-none-manylinux2014_x86_64.whl (24.6 MB)\n",
            "\u001b[2K   \u001b[90m━━━━━━━━━━━━━━━━━━━━━━━━━━━━━━━━━━━━━━━━\u001b[0m \u001b[32m24.6/24.6 MB\u001b[0m \u001b[31m21.5 MB/s\u001b[0m eta \u001b[36m0:00:00\u001b[0m\n",
            "\u001b[?25hDownloading nvidia_cuda_runtime_cu12-12.4.127-py3-none-manylinux2014_x86_64.whl (883 kB)\n",
            "\u001b[2K   \u001b[90m━━━━━━━━━━━━━━━━━━━━━━━━━━━━━━━━━━━━━━━━\u001b[0m \u001b[32m883.7/883.7 kB\u001b[0m \u001b[31m31.4 MB/s\u001b[0m eta \u001b[36m0:00:00\u001b[0m\n",
            "\u001b[?25hDownloading nvidia_cudnn_cu12-9.1.0.70-py3-none-manylinux2014_x86_64.whl (664.8 MB)\n",
            "\u001b[2K   \u001b[90m━━━━━━━━━━━━━━━━━━━━━━━━━━━━━━━━━━━━━━━\u001b[0m \u001b[32m664.8/664.8 MB\u001b[0m \u001b[31m803.1 kB/s\u001b[0m eta \u001b[36m0:00:00\u001b[0m\n",
            "\u001b[?25hDownloading nvidia_cufft_cu12-11.2.1.3-py3-none-manylinux2014_x86_64.whl (211.5 MB)\n",
            "\u001b[2K   \u001b[90m━━━━━━━━━━━━━━━━━━━━━━━━━━━━━━━━━━━━━━━━\u001b[0m \u001b[32m211.5/211.5 MB\u001b[0m \u001b[31m4.5 MB/s\u001b[0m eta \u001b[36m0:00:00\u001b[0m\n",
            "\u001b[?25hDownloading nvidia_curand_cu12-10.3.5.147-py3-none-manylinux2014_x86_64.whl (56.3 MB)\n",
            "\u001b[2K   \u001b[90m━━━━━━━━━━━━━━━━━━━━━━━━━━━━━━━━━━━━━━━━\u001b[0m \u001b[32m56.3/56.3 MB\u001b[0m \u001b[31m12.1 MB/s\u001b[0m eta \u001b[36m0:00:00\u001b[0m\n",
            "\u001b[?25hDownloading nvidia_cusolver_cu12-11.6.1.9-py3-none-manylinux2014_x86_64.whl (127.9 MB)\n",
            "\u001b[2K   \u001b[90m━━━━━━━━━━━━━━━━━━━━━━━━━━━━━━━━━━━━━━━━\u001b[0m \u001b[32m127.9/127.9 MB\u001b[0m \u001b[31m7.6 MB/s\u001b[0m eta \u001b[36m0:00:00\u001b[0m\n",
            "\u001b[?25hDownloading nvidia_cusparse_cu12-12.3.1.170-py3-none-manylinux2014_x86_64.whl (207.5 MB)\n",
            "\u001b[2K   \u001b[90m━━━━━━━━━━━━━━━━━━━━━━━━━━━━━━━━━━━━━━━━\u001b[0m \u001b[32m207.5/207.5 MB\u001b[0m \u001b[31m5.1 MB/s\u001b[0m eta \u001b[36m0:00:00\u001b[0m\n",
            "\u001b[?25hDownloading nvidia_nccl_cu12-2.21.5-py3-none-manylinux2014_x86_64.whl (188.7 MB)\n",
            "\u001b[2K   \u001b[90m━━━━━━━━━━━━━━━━━━━━━━━━━━━━━━━━━━━━━━━━\u001b[0m \u001b[32m188.7/188.7 MB\u001b[0m \u001b[31m5.2 MB/s\u001b[0m eta \u001b[36m0:00:00\u001b[0m\n",
            "\u001b[?25hDownloading nvidia_nvjitlink_cu12-12.4.127-py3-none-manylinux2014_x86_64.whl (21.1 MB)\n",
            "\u001b[2K   \u001b[90m━━━━━━━━━━━━━━━━━━━━━━━━━━━━━━━━━━━━━━━━\u001b[0m \u001b[32m21.1/21.1 MB\u001b[0m \u001b[31m52.1 MB/s\u001b[0m eta \u001b[36m0:00:00\u001b[0m\n",
            "\u001b[?25hInstalling collected packages: nvidia-nvjitlink-cu12, nvidia-nccl-cu12, nvidia-curand-cu12, nvidia-cufft-cu12, nvidia-cuda-runtime-cu12, nvidia-cuda-nvrtc-cu12, nvidia-cuda-cupti-cu12, nvidia-cublas-cu12, nvidia-cusparse-cu12, nvidia-cudnn-cu12, nvidia-cusolver-cu12\n",
            "  Attempting uninstall: nvidia-nvjitlink-cu12\n",
            "    Found existing installation: nvidia-nvjitlink-cu12 12.5.82\n",
            "    Uninstalling nvidia-nvjitlink-cu12-12.5.82:\n",
            "      Successfully uninstalled nvidia-nvjitlink-cu12-12.5.82\n",
            "  Attempting uninstall: nvidia-nccl-cu12\n",
            "    Found existing installation: nvidia-nccl-cu12 2.23.4\n",
            "    Uninstalling nvidia-nccl-cu12-2.23.4:\n",
            "      Successfully uninstalled nvidia-nccl-cu12-2.23.4\n",
            "  Attempting uninstall: nvidia-curand-cu12\n",
            "    Found existing installation: nvidia-curand-cu12 10.3.6.82\n",
            "    Uninstalling nvidia-curand-cu12-10.3.6.82:\n",
            "      Successfully uninstalled nvidia-curand-cu12-10.3.6.82\n",
            "  Attempting uninstall: nvidia-cufft-cu12\n",
            "    Found existing installation: nvidia-cufft-cu12 11.2.3.61\n",
            "    Uninstalling nvidia-cufft-cu12-11.2.3.61:\n",
            "      Successfully uninstalled nvidia-cufft-cu12-11.2.3.61\n",
            "  Attempting uninstall: nvidia-cuda-runtime-cu12\n",
            "    Found existing installation: nvidia-cuda-runtime-cu12 12.5.82\n",
            "    Uninstalling nvidia-cuda-runtime-cu12-12.5.82:\n",
            "      Successfully uninstalled nvidia-cuda-runtime-cu12-12.5.82\n",
            "  Attempting uninstall: nvidia-cuda-nvrtc-cu12\n",
            "    Found existing installation: nvidia-cuda-nvrtc-cu12 12.5.82\n",
            "    Uninstalling nvidia-cuda-nvrtc-cu12-12.5.82:\n",
            "      Successfully uninstalled nvidia-cuda-nvrtc-cu12-12.5.82\n",
            "  Attempting uninstall: nvidia-cuda-cupti-cu12\n",
            "    Found existing installation: nvidia-cuda-cupti-cu12 12.5.82\n",
            "    Uninstalling nvidia-cuda-cupti-cu12-12.5.82:\n",
            "      Successfully uninstalled nvidia-cuda-cupti-cu12-12.5.82\n",
            "  Attempting uninstall: nvidia-cublas-cu12\n",
            "    Found existing installation: nvidia-cublas-cu12 12.5.3.2\n",
            "    Uninstalling nvidia-cublas-cu12-12.5.3.2:\n",
            "      Successfully uninstalled nvidia-cublas-cu12-12.5.3.2\n",
            "  Attempting uninstall: nvidia-cusparse-cu12\n",
            "    Found existing installation: nvidia-cusparse-cu12 12.5.1.3\n",
            "    Uninstalling nvidia-cusparse-cu12-12.5.1.3:\n",
            "      Successfully uninstalled nvidia-cusparse-cu12-12.5.1.3\n",
            "  Attempting uninstall: nvidia-cudnn-cu12\n",
            "    Found existing installation: nvidia-cudnn-cu12 9.3.0.75\n",
            "    Uninstalling nvidia-cudnn-cu12-9.3.0.75:\n",
            "      Successfully uninstalled nvidia-cudnn-cu12-9.3.0.75\n",
            "  Attempting uninstall: nvidia-cusolver-cu12\n",
            "    Found existing installation: nvidia-cusolver-cu12 11.6.3.83\n",
            "    Uninstalling nvidia-cusolver-cu12-11.6.3.83:\n",
            "      Successfully uninstalled nvidia-cusolver-cu12-11.6.3.83\n",
            "Successfully installed nvidia-cublas-cu12-12.4.5.8 nvidia-cuda-cupti-cu12-12.4.127 nvidia-cuda-nvrtc-cu12-12.4.127 nvidia-cuda-runtime-cu12-12.4.127 nvidia-cudnn-cu12-9.1.0.70 nvidia-cufft-cu12-11.2.1.3 nvidia-curand-cu12-10.3.5.147 nvidia-cusolver-cu12-11.6.1.9 nvidia-cusparse-cu12-12.3.1.170 nvidia-nccl-cu12-2.21.5 nvidia-nvjitlink-cu12-12.4.127\n"
          ]
        }
      ]
    },
    {
      "cell_type": "markdown",
      "source": [
        "# 2. \t📊 Train model\n"
      ],
      "metadata": {
        "id": "zsS9edyTUya6"
      }
    },
    {
      "cell_type": "code",
      "execution_count": null,
      "metadata": {
        "colab": {
          "base_uri": "https://localhost:8080/"
        },
        "id": "o_VPYjzpHhvl",
        "outputId": "f2d247e0-f789-4c5c-b3db-4a588128e935"
      },
      "outputs": [
        {
          "output_type": "stream",
          "name": "stdout",
          "text": [
            "🚀 Training started...\n",
            "Epoch 0, Loss: 1.0731\n",
            "Epoch 10, Loss: 1.0223\n",
            "Epoch 20, Loss: 0.9694\n",
            "Epoch 30, Loss: 0.9096\n",
            "Epoch 40, Loss: 0.8449\n",
            "Epoch 50, Loss: 0.7792\n",
            "Epoch 60, Loss: 0.7145\n",
            "Epoch 70, Loss: 0.6540\n",
            "Epoch 80, Loss: 0.5988\n",
            "Epoch 90, Loss: 0.5477\n",
            "✅ Training completed.\n",
            "✅ Model saved to models/mlp_strategy.pt\n"
          ]
        }
      ],
      "source": [
        "# train_mlp_classifier.py\n",
        "\n",
        "import torch\n",
        "import torch.nn as nn\n",
        "import torch.optim as optim\n",
        "import pandas as pd\n",
        "from sklearn.model_selection import train_test_split\n",
        "from sklearn.preprocessing import StandardScaler\n",
        "import joblib\n",
        "\n",
        "# 1. Load or generate sample data\n",
        "# Format: [car_length, car_width, spot_length, spot_width, distance_to_spot], label\n",
        "\n",
        "data = pd.DataFrame([\n",
        "    [4.7, 1.8, 5.5, 2.5, 1.0, 1],  # Toyota Corolla\n",
        "    [4.9, 2.0, 6.0, 2.5, 0.8, 0],  # Honda Accord\n",
        "    [5.2, 2.0, 5.0, 2.0, 0.3, 2],  # Ford Explorer – too small\n",
        "    [3.9, 1.6, 4.8, 2.2, 1.2, 1],  # Mini Cooper\n",
        "    [4.3, 1.7, 5.0, 2.3, 0.7, 0],  # Hyundai i20\n",
        "    [5.0, 2.2, 6.5, 2.6, 1.0, 0],  # Tesla Model S\n",
        "    [4.6, 1.9, 5.2, 2.4, 0.9, 1],  # Mazda 3 hatch\n",
        "    [5.1, 2.1, 4.9, 2.0, 0.2, 2],  # Jeep Grand Cherokee\n",
        "    [4.4, 1.8, 5.5, 2.5, 1.1, 1],  # Nissan Sentra\n",
        "    [4.8, 2.0, 6.0, 2.5, 1.3, 0],  # VW Passat\n",
        "    [4.5, 1.8, 6.0, 2.5, 1.0, 1],\n",
        "    [4.8, 2.0, 5.5, 2.3, 0.5, 0],\n",
        "    [5.0, 2.2, 4.5, 2.0, 0.3, 2],\n",
        "    [4.3, 1.7, 6.0, 2.4, 1.2, 1],\n",
        "    [5.2, 2.1, 5.0, 2.0, 0.4, 0],\n",
        "    [5.5, 2.3, 4.8, 2.0, 0.2, 2]\n",
        "], columns=[\"car_length\", \"car_width\", \"spot_length\", \"spot_width\", \"distance_to_spot\", \"label\"])\n",
        "\n",
        "X = data.iloc[:, :-1].values\n",
        "y = data.iloc[:, -1].values\n",
        "\n",
        "# 2. Normalize input\n",
        "scaler = StandardScaler()\n",
        "X = scaler.fit_transform(X)\n",
        "\n",
        "# Save the scaler for later use\n",
        "# ✅ Create 'models/' folder first\n",
        "import os\n",
        "os.makedirs(\"models\", exist_ok=True)\n",
        "\n",
        "# 💾 Save scaler\n",
        "import joblib\n",
        "joblib.dump(scaler, \"models/scaler.pkl\")\n",
        "\n",
        "# 3. Split data\n",
        "X_train, X_val, y_train, y_val = train_test_split(X, y, test_size=0.2)\n",
        "\n",
        "# 4. Convert to PyTorch tensors\n",
        "X_train = torch.tensor(X_train, dtype=torch.float32)\n",
        "y_train = torch.tensor(y_train, dtype=torch.long)\n",
        "X_val = torch.tensor(X_val, dtype=torch.float32)\n",
        "y_val = torch.tensor(y_val, dtype=torch.long)\n",
        "\n",
        "# 5. Define model\n",
        "model = nn.Sequential(\n",
        "    nn.Linear(5, 32),\n",
        "    nn.ReLU(),\n",
        "    nn.Linear(32, 16),\n",
        "    nn.ReLU(),\n",
        "    nn.Linear(16, 3)\n",
        ")\n",
        "\n",
        "# 6. Train model\n",
        "criterion = nn.CrossEntropyLoss()\n",
        "optimizer = optim.Adam(model.parameters(), lr=0.001)\n",
        "\n",
        "# 🏋️‍♀️ Train the model\n",
        "print(\"🚀 Training started...\")\n",
        "for epoch in range(100):\n",
        "    optimizer.zero_grad()\n",
        "    output = model(X_train)\n",
        "    loss = criterion(output, y_train)\n",
        "    loss.backward()\n",
        "    optimizer.step()\n",
        "\n",
        "    if epoch % 10 == 0:\n",
        "        print(f\"Epoch {epoch}, Loss: {loss.item():.4f}\")\n",
        "\n",
        "print(\"✅ Training completed.\")\n",
        "\n",
        "# 7. Save model\n",
        "torch.save(model.state_dict(), \"models/mlp_strategy.pt\")\n",
        "print(\"✅ Model saved to models/mlp_strategy.pt\")"
      ]
    },
    {
      "cell_type": "markdown",
      "source": [
        "📉 What Is “Loss”?\n",
        "\n",
        "Loss is a number that tells you how far off your model’s predictions are from the correct answers during training.\n",
        "\n",
        "\t•\t✅ Lower loss = better model performance\n",
        "\t•\t❌ Higher loss = worse predictions\n",
        "\n",
        "You want the loss to go down as the model learns.\n",
        "\n",
        "- Epoch 0, Loss: 1.1076   ← ❌ High loss, model just started\n",
        "- Epoch 10, Loss: 1.0091  ← starting to improve\n",
        "- Epoch 20, Loss: 0.9300\n",
        "- Epoch 30, Loss: 0.8503\n",
        "- Epoch 40, Loss: 0.7623\n",
        "- Epoch 50, Loss: 0.6655   ← ✅ Big improvement\n",
        "- Epoch 60, Loss: 0.5683\n",
        "- Epoch 70, Loss: 0.4785\n",
        "- Epoch 80, Loss: 0.4023\n",
        "- Epoch 90, Loss: 0.3413   ← 🔥 Low loss, model learned well\n",
        "\n",
        "\n",
        "🧠 This shows that:\n",
        "\n",
        "\t•\tYour model learned from the data step-by-step\n",
        "\t•\tLoss decreased from 1.1 → 0.34 (very good!)\n",
        "\t•\tThis means your model is making fewer mistakes and giving more accurate predictions by the end"
      ],
      "metadata": {
        "id": "l631WibxXKEd"
      }
    },
    {
      "cell_type": "code",
      "source": [
        "!ls"
      ],
      "metadata": {
        "colab": {
          "base_uri": "https://localhost:8080/"
        },
        "id": "aL0-lqw4Wc6W",
        "outputId": "db9982d6-6ca3-47d4-a419-f20158a273fd"
      },
      "execution_count": null,
      "outputs": [
        {
          "output_type": "stream",
          "name": "stdout",
          "text": [
            "models\tsample_data\n"
          ]
        }
      ]
    },
    {
      "cell_type": "markdown",
      "source": [
        "# \t3.\t💾 Predict strategy using reusable function"
      ],
      "metadata": {
        "id": "x_WdCHTaU8vF"
      }
    },
    {
      "cell_type": "code",
      "source": [
        "import torch\n",
        "import numpy as np\n",
        "import joblib\n",
        "\n",
        "# Load the model (should be done only once ideally)\n",
        "model = torch.nn.Sequential(\n",
        "    torch.nn.Linear(5, 32),\n",
        "    torch.nn.ReLU(),\n",
        "    torch.nn.Linear(32, 16),\n",
        "    torch.nn.ReLU(),\n",
        "    torch.nn.Linear(16, 3)\n",
        ")\n",
        "model.load_state_dict(torch.load('models/mlp_strategy.pt'))\n",
        "model.eval()\n",
        "\n",
        "# Try to load scaler\n",
        "try:\n",
        "    scaler = joblib.load('models/scaler.pkl')\n",
        "except:\n",
        "    scaler = None\n",
        "    print(\"⚠️ No scaler used\")\n",
        "\n",
        "# ✅ Clean, reusable function\n",
        "def predict_strategy(car_length, car_width, spot_length, spot_width, distance, verbose=False):\n",
        "    \"\"\"\n",
        "    Predict parking strategy based on car and spot dimensions.\n",
        "\n",
        "    Returns:\n",
        "        - recommendation (str): strategy name\n",
        "        - confidence (float): softmax probability\n",
        "        - all_probs (dict): confidence scores for all 3 classes\n",
        "    \"\"\"\n",
        "    sample_input = np.array([[car_length, car_width, spot_length, spot_width, distance]])\n",
        "\n",
        "    if scaler:\n",
        "        sample_input = scaler.transform(sample_input)\n",
        "\n",
        "    input_tensor = torch.tensor(sample_input, dtype=torch.float32)\n",
        "\n",
        "    with torch.no_grad():\n",
        "        output = model(input_tensor)\n",
        "        probabilities = torch.softmax(output, dim=1).numpy()[0]\n",
        "        predicted_class = torch.argmax(output, dim=1).item()\n",
        "\n",
        "    strategy_labels = ['Reverse Parallel', 'Forward Perpendicular', 'Cannot Park']\n",
        "    recommendation = strategy_labels[predicted_class]\n",
        "    confidence = probabilities[predicted_class]\n",
        "    all_probs = {label: float(f\"{prob:.4f}\") for label, prob in zip(strategy_labels, probabilities)}\n",
        "\n",
        "    # Optional console print for debugging\n",
        "    if verbose:\n",
        "        print(\"📊 Strategy Confidence Scores:\")\n",
        "        for label, prob in all_probs.items():\n",
        "            print(f\"{label}: {prob*100:.2f}%\")\n",
        "        print(f\"\\n🚘 Recommended Strategy: {recommendation} ({confidence:.2%} confidence)\")\n",
        "\n",
        "    return recommendation, confidence, all_probs"
      ],
      "metadata": {
        "id": "_hm-iYinWj51"
      },
      "execution_count": 17,
      "outputs": []
    },
    {
      "cell_type": "markdown",
      "source": [
        "🔧 How to Use It"
      ],
      "metadata": {
        "id": "PVrm0pZnUhDv"
      }
    },
    {
      "cell_type": "code",
      "source": [
        "# strategy, confidence, scores = predict_strategy(3.0, 1.6, 5.0, 2.5, 1.0, verbose=True)\n",
        "\n",
        "# # In Streamlit later:\n",
        "# st.write(\"Recommended:\", strategy)\n",
        "# st.write(\"Confidence:\", f\"{confidence:.2%}\")\n",
        "# st.json(scores)"
      ],
      "metadata": {
        "id": "R4rPaXJ7Ufrv"
      },
      "execution_count": null,
      "outputs": []
    },
    {
      "cell_type": "code",
      "source": [
        "strategy, confidence, scores = predict_strategy(3.0, 1.6, 5.0, 2.5, 1.0, verbose=True)"
      ],
      "metadata": {
        "colab": {
          "base_uri": "https://localhost:8080/"
        },
        "id": "nGwl4hVyUt9Q",
        "outputId": "8529ad50-89fc-49d1-aad5-8ce312c95b19"
      },
      "execution_count": 18,
      "outputs": [
        {
          "output_type": "stream",
          "name": "stdout",
          "text": [
            "📊 Strategy Confidence Scores:\n",
            "Reverse Parallel: 3.75%\n",
            "Forward Perpendicular: 96.02%\n",
            "Cannot Park: 0.24%\n",
            "\n",
            "🚘 Recommended Strategy: Forward Perpendicular (96.02% confidence)\n"
          ]
        }
      ]
    },
    {
      "cell_type": "code",
      "source": [
        "strategy, confidence, scores = predict_strategy(4.2, 1.8, 6.5, 2.8, 1.5, verbose=True)"
      ],
      "metadata": {
        "colab": {
          "base_uri": "https://localhost:8080/"
        },
        "id": "IF3_6xJ9ZWNv",
        "outputId": "82143740-fe11-4188-9070-0295c56401de"
      },
      "execution_count": 19,
      "outputs": [
        {
          "output_type": "stream",
          "name": "stdout",
          "text": [
            "📊 Strategy Confidence Scores:\n",
            "Reverse Parallel: 17.04%\n",
            "Forward Perpendicular: 82.31%\n",
            "Cannot Park: 0.66%\n",
            "\n",
            "🚘 Recommended Strategy: Forward Perpendicular (82.31% confidence)\n"
          ]
        }
      ]
    },
    {
      "cell_type": "code",
      "source": [
        "# Try a tighter spot\n",
        "strategy, confidence, scores = predict_strategy(5.0, 2.2, 6.0, 2.8, 0.9, verbose=True)"
      ],
      "metadata": {
        "colab": {
          "base_uri": "https://localhost:8080/"
        },
        "id": "uSVHMRc0jeAI",
        "outputId": "cade80e2-d2ac-47e9-9f69-e61f8ffb4918"
      },
      "execution_count": 20,
      "outputs": [
        {
          "output_type": "stream",
          "name": "stdout",
          "text": [
            "📊 Strategy Confidence Scores:\n",
            "Reverse Parallel: 85.31%\n",
            "Forward Perpendicular: 8.48%\n",
            "Cannot Park: 6.21%\n",
            "\n",
            "🚘 Recommended Strategy: Reverse Parallel (85.31% confidence)\n"
          ]
        }
      ]
    },
    {
      "cell_type": "code",
      "source": [
        "# Very small car\n",
        "strategy, confidence, scores = predict_strategy(3.0, 1.6, 5.0, 2.5, 1.0, verbose=True)"
      ],
      "metadata": {
        "colab": {
          "base_uri": "https://localhost:8080/"
        },
        "id": "CgCiwe4Wjh3x",
        "outputId": "f9594280-067d-4a9f-b7e5-1bfc860e2f9f"
      },
      "execution_count": 21,
      "outputs": [
        {
          "output_type": "stream",
          "name": "stdout",
          "text": [
            "📊 Strategy Confidence Scores:\n",
            "Reverse Parallel: 3.75%\n",
            "Forward Perpendicular: 96.02%\n",
            "Cannot Park: 0.24%\n",
            "\n",
            "🚘 Recommended Strategy: Forward Perpendicular (96.02% confidence)\n"
          ]
        }
      ]
    },
    {
      "cell_type": "code",
      "source": [
        "strategy, confidence, scores = predict_strategy(4.5, 2.0, 5.5, 2.5, 1.2, verbose=True)"
      ],
      "metadata": {
        "colab": {
          "base_uri": "https://localhost:8080/"
        },
        "id": "To4K4F0-jm_H",
        "outputId": "83e78aef-1e94-4294-b91b-9320282e4a8e"
      },
      "execution_count": 22,
      "outputs": [
        {
          "output_type": "stream",
          "name": "stdout",
          "text": [
            "📊 Strategy Confidence Scores:\n",
            "Reverse Parallel: 41.49%\n",
            "Forward Perpendicular: 51.26%\n",
            "Cannot Park: 7.24%\n",
            "\n",
            "🚘 Recommended Strategy: Forward Perpendicular (51.26% confidence)\n"
          ]
        }
      ]
    }
  ]
}
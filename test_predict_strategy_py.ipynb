{
  "nbformat": 4,
  "nbformat_minor": 0,
  "metadata": {
    "colab": {
      "provenance": []
    },
    "kernelspec": {
      "name": "python3",
      "display_name": "Python 3"
    },
    "language_info": {
      "name": "python"
    }
  },
  "cells": [
    {
      "cell_type": "code",
      "execution_count": 5,
      "metadata": {
        "colab": {
          "base_uri": "https://localhost:8080/"
        },
        "id": "OzOpcKZ0aSLw",
        "outputId": "16d893dd-fa76-49bd-fdb4-c27fe0082a11"
      },
      "outputs": [
        {
          "output_type": "stream",
          "name": "stdout",
          "text": [
            "📊 Strategy Confidence Scores:\n",
            "Reverse Parallel: 2.09%\n",
            "Forward Perpendicular: 97.79%\n",
            "Cannot Park: 0.12%\n",
            "\n",
            "🚘 Recommended Strategy: Forward Perpendicular (97.79% confidence)\n"
          ]
        }
      ],
      "source": [
        "from strategy_predictor import predict_strategy\n",
        "\n",
        "strategy, confidence, scores = predict_strategy(3.0, 1.6, 5.0, 2.5, 1.0, verbose=True)"
      ]
    }
  ]
}